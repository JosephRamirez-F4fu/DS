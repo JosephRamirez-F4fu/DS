{
  "cells": [
    {
      "cell_type": "code",
      "execution_count": 1,
      "metadata": {
        "colab": {
          "base_uri": "https://localhost:8080/"
        },
        "id": "MlIjQKAVs672",
        "outputId": "5a2b51a6-5e3e-493a-d374-726b5d571a1e"
      },
      "outputs": [
        {
          "name": "stderr",
          "output_type": "stream",
          "text": [
            "[nltk_data] Downloading package punkt to\n",
            "[nltk_data]     C:\\Users\\Joseph\\AppData\\Roaming\\nltk_data...\n",
            "[nltk_data]   Package punkt is already up-to-date!\n",
            "[nltk_data] Downloading package wordnet to\n",
            "[nltk_data]     C:\\Users\\Joseph\\AppData\\Roaming\\nltk_data...\n",
            "[nltk_data]   Package wordnet is already up-to-date!\n",
            "[nltk_data] Downloading package stopwords to\n",
            "[nltk_data]     C:\\Users\\Joseph\\AppData\\Roaming\\nltk_data...\n",
            "[nltk_data]   Package stopwords is already up-to-date!\n",
            "[nltk_data] Downloading package averaged_perceptron_tagger to\n",
            "[nltk_data]     C:\\Users\\Joseph\\AppData\\Roaming\\nltk_data...\n",
            "[nltk_data]   Package averaged_perceptron_tagger is already up-to-\n",
            "[nltk_data]       date!\n",
            "[nltk_data] Downloading package maxent_ne_chunker to\n",
            "[nltk_data]     C:\\Users\\Joseph\\AppData\\Roaming\\nltk_data...\n",
            "[nltk_data]   Package maxent_ne_chunker is already up-to-date!\n",
            "[nltk_data] Downloading package words to\n",
            "[nltk_data]     C:\\Users\\Joseph\\AppData\\Roaming\\nltk_data...\n",
            "[nltk_data]   Package words is already up-to-date!\n"
          ]
        },
        {
          "data": {
            "text/plain": [
              "True"
            ]
          },
          "execution_count": 1,
          "metadata": {},
          "output_type": "execute_result"
        }
      ],
      "source": [
        "import pandas as pd\n",
        "import numpy as np\n",
        "import nltk\n",
        "import os\n",
        "import nltk.corpus\n",
        "nltk.download('punkt')\n",
        "nltk.download('wordnet')\n",
        "nltk.download('stopwords')\n",
        "nltk.download('averaged_perceptron_tagger')\n",
        "nltk.download('maxent_ne_chunker')\n",
        "nltk.download('words')"
      ]
    },
    {
      "cell_type": "markdown",
      "metadata": {
        "id": "27CZohYq5TOf"
      },
      "source": [
        "# Limpieza de la dataset True"
      ]
    },
    {
      "cell_type": "code",
      "execution_count": 87,
      "metadata": {
        "id": "VFvcEuZLzy-Z"
      },
      "outputs": [],
      "source": [
        "true_df = pd.read_csv(\"True.csv\", encoding =\"utf-8\")"
      ]
    },
    {
      "cell_type": "code",
      "execution_count": 88,
      "metadata": {
        "colab": {
          "base_uri": "https://localhost:8080/"
        },
        "id": "EQrxBboP7Ja1",
        "outputId": "afea381f-0faa-4c48-895d-83b49c877f52"
      },
      "outputs": [
        {
          "name": "stdout",
          "output_type": "stream",
          "text": [
            "(21417, 4)\n"
          ]
        }
      ],
      "source": [
        "print(true_df.shape)"
      ]
    },
    {
      "cell_type": "code",
      "execution_count": 89,
      "metadata": {
        "colab": {
          "base_uri": "https://localhost:8080/"
        },
        "id": "Z2BlJESF7NBF",
        "outputId": "c2e02353-3a06-4fb8-aa76-292f06a7eb83"
      },
      "outputs": [
        {
          "name": "stdout",
          "output_type": "stream",
          "text": [
            "<bound method NDFrame.head of                                                    title  \\\n",
            "0      As U.S. budget fight looms, Republicans flip t...   \n",
            "1      U.S. military to accept transgender recruits o...   \n",
            "2      Senior U.S. Republican senator: 'Let Mr. Muell...   \n",
            "3      FBI Russia probe helped by Australian diplomat...   \n",
            "4      Trump wants Postal Service to charge 'much mor...   \n",
            "...                                                  ...   \n",
            "21412  'Fully committed' NATO backs new U.S. approach...   \n",
            "21413  LexisNexis withdrew two products from Chinese ...   \n",
            "21414  Minsk cultural hub becomes haven from authorities   \n",
            "21415  Vatican upbeat on possibility of Pope Francis ...   \n",
            "21416  Indonesia to buy $1.14 billion worth of Russia...   \n",
            "\n",
            "                                                    text       subject  \\\n",
            "0      WASHINGTON (Reuters) - The head of a conservat...  politicsNews   \n",
            "1      WASHINGTON (Reuters) - Transgender people will...  politicsNews   \n",
            "2      WASHINGTON (Reuters) - The special counsel inv...  politicsNews   \n",
            "3      WASHINGTON (Reuters) - Trump campaign adviser ...  politicsNews   \n",
            "4      SEATTLE/WASHINGTON (Reuters) - President Donal...  politicsNews   \n",
            "...                                                  ...           ...   \n",
            "21412  BRUSSELS (Reuters) - NATO allies on Tuesday we...     worldnews   \n",
            "21413  LONDON (Reuters) - LexisNexis, a provider of l...     worldnews   \n",
            "21414  MINSK (Reuters) - In the shadow of disused Sov...     worldnews   \n",
            "21415  MOSCOW (Reuters) - Vatican Secretary of State ...     worldnews   \n",
            "21416  JAKARTA (Reuters) - Indonesia will buy 11 Sukh...     worldnews   \n",
            "\n",
            "                     date  \n",
            "0      December 31, 2017   \n",
            "1      December 29, 2017   \n",
            "2      December 31, 2017   \n",
            "3      December 30, 2017   \n",
            "4      December 29, 2017   \n",
            "...                   ...  \n",
            "21412    August 22, 2017   \n",
            "21413    August 22, 2017   \n",
            "21414    August 22, 2017   \n",
            "21415    August 22, 2017   \n",
            "21416    August 22, 2017   \n",
            "\n",
            "[21417 rows x 4 columns]>\n"
          ]
        }
      ],
      "source": [
        "print(true_df.head())"
      ]
    },
    {
      "cell_type": "code",
      "execution_count": 90,
      "metadata": {
        "id": "HWbEHU9Q_SuX"
      },
      "outputs": [],
      "source": [
        "true_df.drop_duplicates(inplace=True)"
      ]
    },
    {
      "cell_type": "code",
      "execution_count": 91,
      "metadata": {
        "id": "up4lc6ss_Udg"
      },
      "outputs": [],
      "source": [
        "true_df.dropna(inplace=True)"
      ]
    },
    {
      "cell_type": "code",
      "execution_count": 92,
      "metadata": {
        "colab": {
          "base_uri": "https://localhost:8080/"
        },
        "id": "Nc59kRNP5iKV",
        "outputId": "73c2434c-9b10-4c65-f552-d8effebf0fd7"
      },
      "outputs": [
        {
          "name": "stdout",
          "output_type": "stream",
          "text": [
            "Numero de filas duplicadas: 0\n"
          ]
        }
      ],
      "source": [
        "duplicates = true_df.duplicated().sum()\n",
        "print(\"Numero de filas duplicadas:\", duplicates)"
      ]
    },
    {
      "cell_type": "code",
      "execution_count": 93,
      "metadata": {
        "colab": {
          "base_uri": "https://localhost:8080/"
        },
        "id": "51w8qJNG5jDN",
        "outputId": "fecdb9ea-5b3c-413c-dced-cb906726b9ae"
      },
      "outputs": [
        {
          "name": "stdout",
          "output_type": "stream",
          "text": [
            "Valores nulos por columna:\n",
            " title      0\n",
            "text       0\n",
            "subject    0\n",
            "date       0\n",
            "dtype: int64\n"
          ]
        }
      ],
      "source": [
        "valores_nulos_por_columna = true_df.isnull().sum()\n",
        "print(\"Valores nulos por columna:\\n\", valores_nulos_por_columna)"
      ]
    },
    {
      "cell_type": "markdown",
      "metadata": {
        "id": "HgcgHxWp_Zir"
      },
      "source": [
        "# Limpieza de la dataset de Fake"
      ]
    },
    {
      "cell_type": "code",
      "execution_count": 94,
      "metadata": {
        "id": "1EyfKq6D_kd5"
      },
      "outputs": [],
      "source": [
        "fake_df = pd.read_csv(\"True.csv\", encoding =\"utf-8\")"
      ]
    },
    {
      "cell_type": "code",
      "execution_count": 95,
      "metadata": {
        "colab": {
          "base_uri": "https://localhost:8080/"
        },
        "id": "2sIgkHjn_p0_",
        "outputId": "9362fba0-b760-421c-d49c-a7f2e43b77eb"
      },
      "outputs": [
        {
          "name": "stdout",
          "output_type": "stream",
          "text": [
            "(21417, 4)\n"
          ]
        }
      ],
      "source": [
        "print(fake_df.shape)"
      ]
    },
    {
      "cell_type": "code",
      "execution_count": 96,
      "metadata": {
        "colab": {
          "base_uri": "https://localhost:8080/"
        },
        "id": "BWWKaJBN_u9p",
        "outputId": "4c7c7bc2-af2a-4f7d-979b-7722e318265c"
      },
      "outputs": [
        {
          "name": "stdout",
          "output_type": "stream",
          "text": [
            "<bound method NDFrame.head of                                                    title  \\\n",
            "0      As U.S. budget fight looms, Republicans flip t...   \n",
            "1      U.S. military to accept transgender recruits o...   \n",
            "2      Senior U.S. Republican senator: 'Let Mr. Muell...   \n",
            "3      FBI Russia probe helped by Australian diplomat...   \n",
            "4      Trump wants Postal Service to charge 'much mor...   \n",
            "...                                                  ...   \n",
            "21412  'Fully committed' NATO backs new U.S. approach...   \n",
            "21413  LexisNexis withdrew two products from Chinese ...   \n",
            "21414  Minsk cultural hub becomes haven from authorities   \n",
            "21415  Vatican upbeat on possibility of Pope Francis ...   \n",
            "21416  Indonesia to buy $1.14 billion worth of Russia...   \n",
            "\n",
            "                                                    text       subject  \\\n",
            "0      WASHINGTON (Reuters) - The head of a conservat...  politicsNews   \n",
            "1      WASHINGTON (Reuters) - Transgender people will...  politicsNews   \n",
            "2      WASHINGTON (Reuters) - The special counsel inv...  politicsNews   \n",
            "3      WASHINGTON (Reuters) - Trump campaign adviser ...  politicsNews   \n",
            "4      SEATTLE/WASHINGTON (Reuters) - President Donal...  politicsNews   \n",
            "...                                                  ...           ...   \n",
            "21412  BRUSSELS (Reuters) - NATO allies on Tuesday we...     worldnews   \n",
            "21413  LONDON (Reuters) - LexisNexis, a provider of l...     worldnews   \n",
            "21414  MINSK (Reuters) - In the shadow of disused Sov...     worldnews   \n",
            "21415  MOSCOW (Reuters) - Vatican Secretary of State ...     worldnews   \n",
            "21416  JAKARTA (Reuters) - Indonesia will buy 11 Sukh...     worldnews   \n",
            "\n",
            "                     date  \n",
            "0      December 31, 2017   \n",
            "1      December 29, 2017   \n",
            "2      December 31, 2017   \n",
            "3      December 30, 2017   \n",
            "4      December 29, 2017   \n",
            "...                   ...  \n",
            "21412    August 22, 2017   \n",
            "21413    August 22, 2017   \n",
            "21414    August 22, 2017   \n",
            "21415    August 22, 2017   \n",
            "21416    August 22, 2017   \n",
            "\n",
            "[21417 rows x 4 columns]>\n"
          ]
        }
      ],
      "source": [
        "print(fake_df.head())"
      ]
    },
    {
      "cell_type": "code",
      "execution_count": 97,
      "metadata": {
        "id": "qViljKw3_9dh"
      },
      "outputs": [],
      "source": [
        "fake_df.drop_duplicates(inplace=True)"
      ]
    },
    {
      "cell_type": "code",
      "execution_count": 98,
      "metadata": {
        "id": "wjASm0znABDg"
      },
      "outputs": [],
      "source": [
        "fake_df.dropna(inplace=True)"
      ]
    },
    {
      "cell_type": "code",
      "execution_count": 99,
      "metadata": {
        "colab": {
          "base_uri": "https://localhost:8080/"
        },
        "id": "wnKaQjPMAD3H",
        "outputId": "67ea9de5-c506-4dca-d227-f1ed91acad2f"
      },
      "outputs": [
        {
          "name": "stdout",
          "output_type": "stream",
          "text": [
            "Numero de filas duplicadas: 0\n"
          ]
        }
      ],
      "source": [
        "fake_df_duplicates = fake_df.duplicated().sum()\n",
        "print(\"Numero de filas duplicadas:\", fake_df_duplicates)"
      ]
    },
    {
      "cell_type": "code",
      "execution_count": 100,
      "metadata": {
        "colab": {
          "base_uri": "https://localhost:8080/"
        },
        "id": "oCsjg0paAPZP",
        "outputId": "3a58b3dd-84d7-4c00-8a6c-b73df512127a"
      },
      "outputs": [
        {
          "name": "stdout",
          "output_type": "stream",
          "text": [
            "Valores nulos por columna:\n",
            " title      0\n",
            "text       0\n",
            "subject    0\n",
            "date       0\n",
            "dtype: int64\n"
          ]
        }
      ],
      "source": [
        "valores_nulos_por_columna_fake = fake_df.isnull().sum()\n",
        "print(\"Valores nulos por columna:\\n\", valores_nulos_por_columna_fake)"
      ]
    },
    {
      "cell_type": "markdown",
      "metadata": {
        "id": "Wnnnkm2XBFJ-"
      },
      "source": [
        "Preprocesamiento de ambos datasets"
      ]
    },
    {
      "cell_type": "code",
      "execution_count": 12,
      "metadata": {
        "id": "DY3E3Rhi3THn"
      },
      "outputs": [],
      "source": [
        "import re\n",
        "from nltk.corpus import stopwords\n",
        "from nltk.tokenize import word_tokenize\n",
        "\n",
        "def clean_text(text):\n",
        "    text = re.sub(r\"[^\\w\\s]\", \"\", text)  \n",
        "    text = text.lower() \n",
        "    tokens = word_tokenize(text)\n",
        "    tokens = [word for word in tokens if word.isalpha()]  \n",
        "    stop_words = set(stopwords.words('english'))  \n",
        "    tokens = [word for word in tokens if word not in stop_words]\n",
        "    lemmatizer = nltk.stem.WordNetLemmatizer()\n",
        "    tokens = [lemmatizer.lemmatize(word) for word in tokens]\n",
        "    preprocessed_text = \" \".join(tokens)\n",
        "    return preprocessed_text\n"
      ]
    },
    {
      "cell_type": "code",
      "execution_count": 5,
      "metadata": {},
      "outputs": [],
      "source": [
        "\n",
        "fake_df['title'] = fake_df['title'].apply(clean_text)\n",
        "fake_df['text'] = fake_df['text'].apply(clean_text)\n",
        "true_df['title'] = true_df['title'].apply(clean_text)\n",
        "true_df['text'] = true_df['text'].apply(clean_text)\n"
      ]
    },
    {
      "cell_type": "code",
      "execution_count": 103,
      "metadata": {
        "id": "HQF0OninJHjM"
      },
      "outputs": [],
      "source": [
        "fake_df['label'] = 'fake'\n",
        "true_df['label'] = 'true'\n",
        "\n",
        "# Concatenar los conjuntos de datos\n",
        "combined_df = pd.concat([fake_df, true_df], ignore_index=True)\n",
        "\n",
        "# Mezclar las filas del conjunto de datos combinado\n",
        "combined_df = combined_df.sample(frac=1, random_state=42).reset_index(drop=True)"
      ]
    },
    {
      "cell_type": "code",
      "execution_count": 102,
      "metadata": {
        "id": "u5Tbf4peBvHJ"
      },
      "outputs": [],
      "source": [
        "from sklearn.model_selection import train_test_split\n",
        "\n",
        "# Dividir el conjunto de datos falso en entrenamiento y prueba\n",
        "fake_train, fake_test = train_test_split(fake_df, test_size=0.2, random_state=42)\n",
        "\n",
        "# Dividir el conjunto de datos verdadero en entrenamiento y prueba\n",
        "true_train, true_test = train_test_split(true_df, test_size=0.2, random_state=42)\n"
      ]
    },
    {
      "cell_type": "code",
      "execution_count": null,
      "metadata": {},
      "outputs": [],
      "source": [
        "combined_df.to_csv('combined_dataset.csv', index=False)"
      ]
    },
    {
      "cell_type": "markdown",
      "metadata": {
        "id": "GWkwCErPBzqY"
      },
      "source": [
        "Los conjuntos de datos fake y true se dividieron en conjuntos de entrenamiento (80%) y prueba (20%)"
      ]
    },
    {
      "cell_type": "code",
      "execution_count": 2,
      "metadata": {},
      "outputs": [],
      "source": [
        "combined_df = pd.read_csv('combined_dataset.csv')"
      ]
    },
    {
      "cell_type": "code",
      "execution_count": 3,
      "metadata": {},
      "outputs": [
        {
          "data": {
            "text/html": [
              "<div>\n",
              "<style scoped>\n",
              "    .dataframe tbody tr th:only-of-type {\n",
              "        vertical-align: middle;\n",
              "    }\n",
              "\n",
              "    .dataframe tbody tr th {\n",
              "        vertical-align: top;\n",
              "    }\n",
              "\n",
              "    .dataframe thead th {\n",
              "        text-align: right;\n",
              "    }\n",
              "</style>\n",
              "<table border=\"1\" class=\"dataframe\">\n",
              "  <thead>\n",
              "    <tr style=\"text-align: right;\">\n",
              "      <th></th>\n",
              "      <th>title</th>\n",
              "      <th>text</th>\n",
              "      <th>subject</th>\n",
              "      <th>date</th>\n",
              "      <th>label</th>\n",
              "    </tr>\n",
              "  </thead>\n",
              "  <tbody>\n",
              "    <tr>\n",
              "      <th>0</th>\n",
              "      <td>allowing nuclear weapons japan could defuse no...</td>\n",
              "      <td>tokyo reuters japan looks quick resolute respo...</td>\n",
              "      <td>worldnews</td>\n",
              "      <td>September 6, 2017</td>\n",
              "      <td>true</td>\n",
              "    </tr>\n",
              "    <tr>\n",
              "      <th>1</th>\n",
              "      <td>mccain illness deprives senate crucial vote tr...</td>\n",
              "      <td>washington reuters john mccains illness requir...</td>\n",
              "      <td>politicsNews</td>\n",
              "      <td>July 20, 2017</td>\n",
              "      <td>fake</td>\n",
              "    </tr>\n",
              "    <tr>\n",
              "      <th>2</th>\n",
              "      <td>trump nominate excongressman green lead us aid...</td>\n",
              "      <td>washington reuters president donald trump nomi...</td>\n",
              "      <td>politicsNews</td>\n",
              "      <td>May 10, 2017</td>\n",
              "      <td>true</td>\n",
              "    </tr>\n",
              "    <tr>\n",
              "      <th>3</th>\n",
              "      <td>syria calls un security council condemn israel...</td>\n",
              "      <td>beirut reuters syria foreign ministry thursday...</td>\n",
              "      <td>worldnews</td>\n",
              "      <td>November 2, 2017</td>\n",
              "      <td>true</td>\n",
              "    </tr>\n",
              "    <tr>\n",
              "      <th>4</th>\n",
              "      <td>trump weighed sons russia attorney statement w...</td>\n",
              "      <td>washington reuters white house said tuesday us...</td>\n",
              "      <td>politicsNews</td>\n",
              "      <td>August 1, 2017</td>\n",
              "      <td>fake</td>\n",
              "    </tr>\n",
              "  </tbody>\n",
              "</table>\n",
              "</div>"
            ],
            "text/plain": [
              "                                               title  \\\n",
              "0  allowing nuclear weapons japan could defuse no...   \n",
              "1  mccain illness deprives senate crucial vote tr...   \n",
              "2  trump nominate excongressman green lead us aid...   \n",
              "3  syria calls un security council condemn israel...   \n",
              "4  trump weighed sons russia attorney statement w...   \n",
              "\n",
              "                                                text       subject  \\\n",
              "0  tokyo reuters japan looks quick resolute respo...     worldnews   \n",
              "1  washington reuters john mccains illness requir...  politicsNews   \n",
              "2  washington reuters president donald trump nomi...  politicsNews   \n",
              "3  beirut reuters syria foreign ministry thursday...     worldnews   \n",
              "4  washington reuters white house said tuesday us...  politicsNews   \n",
              "\n",
              "                 date label  \n",
              "0  September 6, 2017   true  \n",
              "1      July 20, 2017   fake  \n",
              "2       May 10, 2017   true  \n",
              "3   November 2, 2017   true  \n",
              "4     August 1, 2017   fake  "
            ]
          },
          "execution_count": 3,
          "metadata": {},
          "output_type": "execute_result"
        }
      ],
      "source": [
        "combined_df.head()"
      ]
    },
    {
      "cell_type": "code",
      "execution_count": 6,
      "metadata": {},
      "outputs": [],
      "source": [
        "import nltk\n",
        "from nltk.tokenize import word_tokenize\n",
        "from nltk.corpus import stopwords\n",
        "from nltk.stem import WordNetLemmatizer\n",
        "from sklearn.feature_extraction.text import CountVectorizer, TfidfVectorizer\n",
        "import string"
      ]
    },
    {
      "cell_type": "code",
      "execution_count": 30,
      "metadata": {},
      "outputs": [],
      "source": [
        "def encode_text(texts,encoding_type='one-hot'):\n",
        "\n",
        "    vectorizer = None\n",
        "    if encoding_type == 'one-hot':\n",
        "        vectorizer = CountVectorizer(binary=True)\n",
        "    elif encoding_type == 'tf':\n",
        "        vectorizer = CountVectorizer()\n",
        "    elif encoding_type == 'tfidf':\n",
        "        vectorizer = TfidfVectorizer()\n",
        "    \n",
        "    encode_text = vectorizer.fit_transform(texts)\n",
        "    return encode_text, vectorizer\n"
      ]
    },
    {
      "cell_type": "code",
      "execution_count": 20,
      "metadata": {},
      "outputs": [],
      "source": [
        "combined_df['text'] = combined_df['text'].apply(clean_text)"
      ]
    },
    {
      "cell_type": "code",
      "execution_count": 21,
      "metadata": {},
      "outputs": [],
      "source": [
        "combined_df['title'] = combined_df['title'].apply(clean_text)"
      ]
    },
    {
      "cell_type": "code",
      "execution_count": 35,
      "metadata": {},
      "outputs": [],
      "source": [
        "combined_df.to_csv('combined_dataset_lematized.csv', index=False)"
      ]
    },
    {
      "cell_type": "code",
      "execution_count": 24,
      "metadata": {},
      "outputs": [],
      "source": [
        "def split_data(df, test_size=0.2, random_state=42):\n",
        "    train_df, test_df = train_test_split(df, test_size=test_size, random_state=random_state)\n",
        "    train_df, val_df = train_test_split(train_df, test_size=test_size, random_state=random_state)\n",
        "    return train_df, val_df, test_df"
      ]
    },
    {
      "cell_type": "code",
      "execution_count": null,
      "metadata": {},
      "outputs": [],
      "source": [
        "train_df, val_df, test_df = split_data(combined_df)"
      ]
    },
    {
      "cell_type": "code",
      "execution_count": 31,
      "metadata": {},
      "outputs": [],
      "source": [
        "X_1, text_vectorizer_one_hot = encode_text(combined_df['text'], 'one-hot')\n",
        "X_1, title_vectorizer_one_hot = encode_text(combined_df['title'], 'one-hot')\n"
      ]
    },
    {
      "cell_type": "code",
      "execution_count": 33,
      "metadata": {},
      "outputs": [],
      "source": [
        "X2, text_vectorizer_tf = encode_text(combined_df['text'], 'tf')\n",
        "X2, title_vectorizer_tf = encode_text(combined_df['title'], 'tf')"
      ]
    },
    {
      "cell_type": "code",
      "execution_count": 34,
      "metadata": {},
      "outputs": [],
      "source": [
        "X3, text_vectorizer_tfidf = encode_text(combined_df['text'], 'tfidf')\n",
        "X3, title_vectorizer_tfidf = encode_text(combined_df['title'], 'tfidf')"
      ]
    }
  ],
  "metadata": {
    "colab": {
      "provenance": []
    },
    "kernelspec": {
      "display_name": "Python 3",
      "name": "python3"
    },
    "language_info": {
      "codemirror_mode": {
        "name": "ipython",
        "version": 3
      },
      "file_extension": ".py",
      "mimetype": "text/x-python",
      "name": "python",
      "nbconvert_exporter": "python",
      "pygments_lexer": "ipython3",
      "version": "3.12.0"
    }
  },
  "nbformat": 4,
  "nbformat_minor": 0
}
